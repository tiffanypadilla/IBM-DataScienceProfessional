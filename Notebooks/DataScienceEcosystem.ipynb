{
 "cells": [
  {
   "cell_type": "markdown",
   "id": "f2b7f36e",
   "metadata": {},
   "source": [
    "<H1>Data Science Tools and Ecosystem</H1>"
   ]
  },
  {
   "cell_type": "markdown",
   "id": "a15ad742",
   "metadata": {},
   "source": [
    "In this notebook, Data Science Tools and Ecosystem are summarized."
   ]
  },
  {
   "cell_type": "markdown",
   "id": "d97801fe",
   "metadata": {},
   "source": [
    "Some of the popular languages that Data Scientists use are:\n",
    "\n",
    "1. Python\n",
    "2. R\n",
    "3. SQL"
   ]
  },
  {
   "cell_type": "markdown",
   "id": "b7c3af92",
   "metadata": {},
   "source": [
    "Some of the commonly used libraries used by Data Scientists include:\n",
    "1. numpy\n",
    "2. pandas\n",
    "3. keras"
   ]
  },
  {
   "cell_type": "markdown",
   "id": "4074527f",
   "metadata": {},
   "source": [
    "<B>Objectives:</B>\n",
    "\n",
    "-List Data Science tools\n",
    "\n",
    "-Evalute arithmetic expressions\n",
    "\n",
    "-Share notebook on GitHub\n",
    "\n"
   ]
  },
  {
   "cell_type": "markdown",
   "id": "3497560c",
   "metadata": {},
   "source": [
    "|Data Science Tools|\n",
    "|------------------|\n",
    "|Jupyter Notebook / JupyterLab|\n",
    "|RStudio|\n",
    "|VS Code|"
   ]
  },
  {
   "cell_type": "markdown",
   "id": "dee29a62",
   "metadata": {},
   "source": [
    "<H3>Below are a few examples of evaluating arithmetic expressions in Python</H3>"
   ]
  },
  {
   "cell_type": "code",
   "execution_count": 11,
   "id": "c8aa1f61",
   "metadata": {},
   "outputs": [
    {
     "data": {
      "text/plain": [
       "17"
      ]
     },
     "execution_count": 11,
     "metadata": {},
     "output_type": "execute_result"
    }
   ],
   "source": [
    "# This a simple arithmetic expression to mutiply then add integers\n",
    "(3*4)+5"
   ]
  },
  {
   "cell_type": "code",
   "execution_count": 12,
   "id": "c172ecf6",
   "metadata": {},
   "outputs": [
    {
     "data": {
      "text/plain": [
       "3.3333333333333335"
      ]
     },
     "execution_count": 12,
     "metadata": {},
     "output_type": "execute_result"
    }
   ],
   "source": [
    "# This will convert 200 minutes to hours by diving by 60\n",
    "200/60"
   ]
  },
  {
   "cell_type": "markdown",
   "id": "8e239146",
   "metadata": {},
   "source": [
    "<H2>Author</H2>\n",
    "Tiffany Padilla"
   ]
  }
 ],
 "metadata": {
  "kernelspec": {
   "display_name": "Python 3",
   "language": "python",
   "name": "python3"
  },
  "language_info": {
   "codemirror_mode": {
    "name": "ipython",
    "version": 3
   },
   "file_extension": ".py",
   "mimetype": "text/x-python",
   "name": "python",
   "nbconvert_exporter": "python",
   "pygments_lexer": "ipython3",
   "version": "3.12.4"
  }
 },
 "nbformat": 4,
 "nbformat_minor": 5
}
